{
  "cells": [
    {
      "cell_type": "markdown",
      "metadata": {
        "id": "view-in-github",
        "colab_type": "text"
      },
      "source": [
        "<a href=\"https://colab.research.google.com/github/GuilhermeLBonomo/Automations/blob/main/Gui_Bonomo_Comp2_2024_1_Aula_10_SciPy.ipynb\" target=\"_parent\"><img src=\"https://colab.research.google.com/assets/colab-badge.svg\" alt=\"Open In Colab\"/></a>"
      ]
    },
    {
      "cell_type": "markdown",
      "metadata": {
        "id": "FFzB5U2EohHf"
      },
      "source": [
        "# Computação 2 &ndash; Aula 10 &ndash; 2024.1 <br>SciPy\n",
        "\n",
        "Nesta semana, vamos olhar as funções da biblioteca **SciPy** &ndash; são funções numéricas para tarefas comuns como **integração**, **interpolação**, **ajuste linear**,  **transformada de Fourier**, entre outras.\n",
        "\n",
        "Bons estudos!<br>\n",
        "*Prof. Cesar Raitz*"
      ]
    },
    {
      "cell_type": "markdown",
      "metadata": {
        "id": "8yipJx9AgYx2"
      },
      "source": [
        "# 1. Instalando o SciPy"
      ]
    },
    {
      "cell_type": "markdown",
      "metadata": {
        "id": "C1VpUMh4aVyT"
      },
      "source": [
        "O **SciPy** reúne várias funções usadas para resolução e modelagem de problemas. As funções estão reunidas em módulos:\n",
        "* `scipy.linalg` para algoritmos de álgebra linear (igual ao `numpy.linalg`)\n",
        "* `scipy.integrate` para integração numérica\n",
        "* `scipy.interpolate` para interpolação de pontos\n",
        "* `scipy.optimize` para resolver problemas de otimização\n",
        "* `scipy.stats` para funções de estatística\n",
        "* `scipy.fft` para calcular transformada de Fourier\n",
        "\n",
        "A lista completa de módulos pode ser vista [aqui](https://docs.scipy.org/doc/scipy) na documentação."
      ]
    },
    {
      "cell_type": "markdown",
      "metadata": {
        "id": "UydiJkK8xdOG"
      },
      "source": [
        "Assim como as outras bibliotecas que vimos, o SciPy já está presente no Colab. **Se for usar no Python IDLE**, precisa instalar digitando este comando num Terminal do Windows ou Linux:\n",
        "```\n",
        "pip install scipy\n",
        "```"
      ]
    },
    {
      "cell_type": "markdown",
      "metadata": {
        "id": "eYGa_pe5ywQc"
      },
      "source": [
        "# 2. Álgebra linear &ndash; linalg\n",
        "\n",
        "Este módulo é semelhante ao `numpy.linalg`. O problema básico da Álgebra Linear é resolver sistemas lineares do tipo $A\\, \\vec{v} = \\vec{c}$, onde\n",
        "  \n",
        "  * $A$ é uma matriz de coeficientes,\n",
        "  * $\\vec{v}$ é um vetor de incógnitas e\n",
        "  * $\\vec{c}$ é um vetor de constantes.\n",
        "  \n",
        "Para resolvê-lo, procuramos a matriz inversa $A^{-1}$ e obtemos o vetor solução $\\vec{v}$:\n",
        "$$\n",
        "\\begin{align}\n",
        "  A^{-1} A\\, \\vec{v} &= A^{-1}\\,\\vec{c} \\\\\n",
        "  \\vec{v} &= A^{-1}\\,\\vec{c}.\n",
        "\\end{align}\n",
        "$$."
      ]
    },
    {
      "cell_type": "markdown",
      "metadata": {
        "id": "A9DNKTv9rp6c"
      },
      "source": [
        "## Matriz inversa"
      ]
    },
    {
      "cell_type": "markdown",
      "metadata": {
        "id": "qEIYrI0IHiIb"
      },
      "source": [
        "Abaixo temos um sistema linear com 3 incógnitas. Problemas deste tipo são trabalhosos de resolver, especialmente se o número de dimensões é grande.\n",
        "$$\n",
        "\\begin{cases}\n",
        " 3x -2y +5z &=& 14 \\\\\n",
        " 4x + 3y -z &=& 7 \\\\\n",
        "-2x -3y +2z &=& -2\n",
        "\\end{cases}\n",
        "$$\n",
        "\n",
        "O primeiro passo é encontrar a inversa da matriz de coeficientes\n",
        "$$\n",
        "A =\n",
        "\\begin{bmatrix}\n",
        "   3 & -2 & 5 \\\\\n",
        "   4 & 3 & -1 \\\\\n",
        "   -2 & -3 & 2\n",
        "\\end{bmatrix}.\n",
        "$$\n",
        "\n",
        "Temos ainda o vetor de incógnitas $\\vec{v} = (x, y, z)$ e o vetor de constantes $\\vec{c} = (14, 7, -2)$.\n",
        "\n",
        "O código a seguir mostra como inverter a matriz com a função `inv()`:"
      ]
    },
    {
      "cell_type": "code",
      "execution_count": 20,
      "metadata": {
        "id": "qrVrGHHLowev",
        "colab": {
          "base_uri": "https://localhost:8080/"
        },
        "outputId": "68e51f1d-41d3-41ba-8cc5-a1d145d784e3"
      },
      "outputs": [
        {
          "output_type": "execute_result",
          "data": {
            "text/plain": [
              "array([[-0.33333333,  1.22222222,  1.44444444],\n",
              "       [ 0.66666667, -1.77777778, -2.55555556],\n",
              "       [ 0.66666667, -1.44444444, -1.88888889]])"
            ]
          },
          "metadata": {},
          "execution_count": 20
        }
      ],
      "source": [
        "from scipy.linalg import inv\n",
        "import numpy as np\n",
        "A = np.array([\n",
        "    [3, -2, 5],\n",
        "    [4, 3, -1],\n",
        "    [-2, -3, 2],\n",
        "])\n",
        "Ainv = inv(A)\n",
        "Ainv"
      ]
    },
    {
      "cell_type": "markdown",
      "metadata": {
        "id": "z3kuQiynpPB8"
      },
      "source": [
        "Você acredita que essa é a matriz inversa? Quem sabe? É fácil conferir pela propriedade $A^{-1} A = A A^{-1} = I$."
      ]
    },
    {
      "cell_type": "code",
      "execution_count": 21,
      "metadata": {
        "id": "EP0nnF8bpKtr",
        "colab": {
          "base_uri": "https://localhost:8080/"
        },
        "outputId": "0a02c6c6-40f3-4eb2-d47d-1eb02f919d68"
      },
      "outputs": [
        {
          "output_type": "execute_result",
          "data": {
            "text/plain": [
              "array([[1., 0., 0.],\n",
              "       [0., 1., 0.],\n",
              "       [0., 0., 1.]])"
            ]
          },
          "metadata": {},
          "execution_count": 21
        }
      ],
      "source": [
        "# Multiplicando a inversa pela esquerda\n",
        "(Ainv @ A).round(2)\n",
        "# (Ainv @ A)"
      ]
    },
    {
      "cell_type": "code",
      "execution_count": 22,
      "metadata": {
        "id": "fZm4jytnYGfU",
        "colab": {
          "base_uri": "https://localhost:8080/"
        },
        "outputId": "4f368333-54f3-4ce3-f761-0549f4b68740"
      },
      "outputs": [
        {
          "output_type": "execute_result",
          "data": {
            "text/plain": [
              "array([[ 1.,  0.,  0.],\n",
              "       [-0.,  1., -0.],\n",
              "       [ 0.,  0.,  1.]])"
            ]
          },
          "metadata": {},
          "execution_count": 22
        }
      ],
      "source": [
        "# Multiplicando a inversa pela direita\n",
        "(A @ Ainv).round(2)\n",
        "# (A @ Ainv)"
      ]
    },
    {
      "cell_type": "markdown",
      "metadata": {
        "id": "hQxHUp2TpiuD"
      },
      "source": [
        "Funciona mesmo! As multiplicações fornecem a **matriz identidade**. Não esqueça que `@` é o operador de multiplicação matricial. O método `round()` foi aplicado sobre a matriz resultante para arredondar os números com duas casas decimais. Isso porque queremos eliminar os números muito pequenos, como `-1.11022302e-16`, que podem aparecer quando o computador faz contas. São erros de computação devido ao **número limitado de bits** por variável, e podemos **considerá-los zero**.\n",
        "\n",
        "Voltando ao problema, podemos aplicar $A^{-1}$ ao vetor de constantes para obter a solução (quando houver):"
      ]
    },
    {
      "cell_type": "code",
      "execution_count": 23,
      "metadata": {
        "id": "culqpVmJtE1Z",
        "colab": {
          "base_uri": "https://localhost:8080/"
        },
        "outputId": "8e994e2b-a4e4-467b-c25d-e38e28d0f1bb"
      },
      "outputs": [
        {
          "output_type": "stream",
          "name": "stdout",
          "text": [
            "x = 1.00\n",
            "y = 2.00\n",
            "z = 3.00\n"
          ]
        }
      ],
      "source": [
        "c = [14, 7, -2]\n",
        "v = Ainv @ c\n",
        "print(f\"x = {v[0]:.2f}\")\n",
        "print(f\"y = {v[1]:.2f}\")\n",
        "print(f\"z = {v[2]:.2f}\")"
      ]
    },
    {
      "cell_type": "markdown",
      "metadata": {
        "id": "YJFuYn6AS1Ch"
      },
      "source": [
        "Novamente fizemos um arredondamento com duas casas decimais, desta vez usando o formatador `.2f`."
      ]
    },
    {
      "cell_type": "markdown",
      "metadata": {
        "id": "qo-NXKaHrvtb"
      },
      "source": [
        "## Resolvendo sistemas\n",
        "\n",
        "Se seu objetivo for apenas resolver um sistema linear, você pode usar a função `solve`, que realiza o mesmo procedimento acima."
      ]
    },
    {
      "cell_type": "code",
      "execution_count": 24,
      "metadata": {
        "id": "mZEfgc6SsGxd",
        "colab": {
          "base_uri": "https://localhost:8080/"
        },
        "outputId": "4231a40f-82b8-4ba9-9390-71cbd9f42346"
      },
      "outputs": [
        {
          "output_type": "execute_result",
          "data": {
            "text/plain": [
              "array([1., 2., 3.])"
            ]
          },
          "metadata": {},
          "execution_count": 24
        }
      ],
      "source": [
        "from scipy.linalg import solve\n",
        "\n",
        "A = np.array([\n",
        "    [3, -2, 5],\n",
        "    [4, 3, -1],\n",
        "    [-2, -3, 2],\n",
        "])\n",
        "c = [14, 7, -2]\n",
        "solve(A, c)"
      ]
    },
    {
      "cell_type": "markdown",
      "metadata": {
        "id": "Fw4SF-3rS1Ci"
      },
      "source": [
        "O sistema acima tem **apenas uma solução**. Este sistema é chamado de **possível determinado**. Mas o que acontece quando o sistema **tem infinitas soluções** ou **nenhuma**? Ele terá infinitas soluções quando uma das equações for múltipla de outra. Neste caso, diz-se que o sistema é **possível indeterminado**, já que não podemos determinar uma solução única. Veja o seguinte exemplo, onde a terceira linha é o dobro da segunda (as constantes também):"
      ]
    },
    {
      "cell_type": "code",
      "execution_count": 25,
      "metadata": {
        "id": "ywEL_GY8S1Ci",
        "colab": {
          "base_uri": "https://localhost:8080/",
          "height": 340
        },
        "outputId": "ddfffe92-4e7b-4d50-8128-befe60c6bf3c"
      },
      "outputs": [
        {
          "output_type": "error",
          "ename": "LinAlgError",
          "evalue": "Matrix is singular.",
          "traceback": [
            "\u001b[0;31m---------------------------------------------------------------------------\u001b[0m",
            "\u001b[0;31mLinAlgError\u001b[0m                               Traceback (most recent call last)",
            "\u001b[0;32m<ipython-input-25-e8497eabd638>\u001b[0m in \u001b[0;36m<cell line: 7>\u001b[0;34m()\u001b[0m\n\u001b[1;32m      5\u001b[0m ])\n\u001b[1;32m      6\u001b[0m \u001b[0mcinf\u001b[0m \u001b[0;34m=\u001b[0m \u001b[0;34m[\u001b[0m\u001b[0;36m1\u001b[0m\u001b[0;34m,\u001b[0m \u001b[0;36m2\u001b[0m\u001b[0;34m,\u001b[0m \u001b[0;36m4\u001b[0m\u001b[0;34m]\u001b[0m\u001b[0;34m\u001b[0m\u001b[0;34m\u001b[0m\u001b[0m\n\u001b[0;32m----> 7\u001b[0;31m \u001b[0msolve\u001b[0m\u001b[0;34m(\u001b[0m\u001b[0mMinf\u001b[0m\u001b[0;34m,\u001b[0m \u001b[0mcinf\u001b[0m\u001b[0;34m)\u001b[0m\u001b[0;34m\u001b[0m\u001b[0;34m\u001b[0m\u001b[0m\n\u001b[0m",
            "\u001b[0;32m/usr/local/lib/python3.10/dist-packages/scipy/linalg/_basic.py\u001b[0m in \u001b[0;36msolve\u001b[0;34m(a, b, lower, overwrite_a, overwrite_b, check_finite, assume_a, transposed)\u001b[0m\n\u001b[1;32m    218\u001b[0m                                                (a1, b1))\n\u001b[1;32m    219\u001b[0m         \u001b[0mlu\u001b[0m\u001b[0;34m,\u001b[0m \u001b[0mipvt\u001b[0m\u001b[0;34m,\u001b[0m \u001b[0minfo\u001b[0m \u001b[0;34m=\u001b[0m \u001b[0mgetrf\u001b[0m\u001b[0;34m(\u001b[0m\u001b[0ma1\u001b[0m\u001b[0;34m,\u001b[0m \u001b[0moverwrite_a\u001b[0m\u001b[0;34m=\u001b[0m\u001b[0moverwrite_a\u001b[0m\u001b[0;34m)\u001b[0m\u001b[0;34m\u001b[0m\u001b[0;34m\u001b[0m\u001b[0m\n\u001b[0;32m--> 220\u001b[0;31m         \u001b[0m_solve_check\u001b[0m\u001b[0;34m(\u001b[0m\u001b[0mn\u001b[0m\u001b[0;34m,\u001b[0m \u001b[0minfo\u001b[0m\u001b[0;34m)\u001b[0m\u001b[0;34m\u001b[0m\u001b[0;34m\u001b[0m\u001b[0m\n\u001b[0m\u001b[1;32m    221\u001b[0m         x, info = getrs(lu, ipvt, b1,\n\u001b[1;32m    222\u001b[0m                         trans=trans, overwrite_b=overwrite_b)\n",
            "\u001b[0;32m/usr/local/lib/python3.10/dist-packages/scipy/linalg/_basic.py\u001b[0m in \u001b[0;36m_solve_check\u001b[0;34m(n, info, lamch, rcond)\u001b[0m\n\u001b[1;32m     39\u001b[0m                          '.'.format(-info))\n\u001b[1;32m     40\u001b[0m     \u001b[0;32melif\u001b[0m \u001b[0;36m0\u001b[0m \u001b[0;34m<\u001b[0m \u001b[0minfo\u001b[0m\u001b[0;34m:\u001b[0m\u001b[0;34m\u001b[0m\u001b[0;34m\u001b[0m\u001b[0m\n\u001b[0;32m---> 41\u001b[0;31m         \u001b[0;32mraise\u001b[0m \u001b[0mLinAlgError\u001b[0m\u001b[0;34m(\u001b[0m\u001b[0;34m'Matrix is singular.'\u001b[0m\u001b[0;34m)\u001b[0m\u001b[0;34m\u001b[0m\u001b[0;34m\u001b[0m\u001b[0m\n\u001b[0m\u001b[1;32m     42\u001b[0m \u001b[0;34m\u001b[0m\u001b[0m\n\u001b[1;32m     43\u001b[0m     \u001b[0;32mif\u001b[0m \u001b[0mlamch\u001b[0m \u001b[0;32mis\u001b[0m \u001b[0;32mNone\u001b[0m\u001b[0;34m:\u001b[0m\u001b[0;34m\u001b[0m\u001b[0;34m\u001b[0m\u001b[0m\n",
            "\u001b[0;31mLinAlgError\u001b[0m: Matrix is singular."
          ]
        }
      ],
      "source": [
        "Minf = np.array([\n",
        "   [1, 0, 0],\n",
        "   [1, 2, 3],\n",
        "   [2, 4, 6],\n",
        "])\n",
        "cinf = [1, 2, 4]\n",
        "solve(Minf, cinf)"
      ]
    },
    {
      "cell_type": "markdown",
      "metadata": {
        "id": "1Qai3NeQS1Ci"
      },
      "source": [
        "Já sistemas sem solução são aqueles que todas linhas são múltiplas, mas as constantes não. São chamados de **impossíveis**. Veja este exemplo:"
      ]
    },
    {
      "cell_type": "code",
      "execution_count": 26,
      "metadata": {
        "id": "n0dYdew-S1Ci",
        "colab": {
          "base_uri": "https://localhost:8080/",
          "height": 340
        },
        "outputId": "0a9d33da-c899-45c5-eada-b4c32032ce8b"
      },
      "outputs": [
        {
          "output_type": "error",
          "ename": "LinAlgError",
          "evalue": "Matrix is singular.",
          "traceback": [
            "\u001b[0;31m---------------------------------------------------------------------------\u001b[0m",
            "\u001b[0;31mLinAlgError\u001b[0m                               Traceback (most recent call last)",
            "\u001b[0;32m<ipython-input-26-b20470bdca86>\u001b[0m in \u001b[0;36m<cell line: 7>\u001b[0;34m()\u001b[0m\n\u001b[1;32m      5\u001b[0m ])\n\u001b[1;32m      6\u001b[0m \u001b[0mcsem\u001b[0m \u001b[0;34m=\u001b[0m \u001b[0;34m[\u001b[0m\u001b[0;36m1\u001b[0m\u001b[0;34m,\u001b[0m \u001b[0;36m1\u001b[0m\u001b[0;34m,\u001b[0m \u001b[0;36m1\u001b[0m\u001b[0;34m]\u001b[0m\u001b[0;34m\u001b[0m\u001b[0;34m\u001b[0m\u001b[0m\n\u001b[0;32m----> 7\u001b[0;31m \u001b[0msolve\u001b[0m\u001b[0;34m(\u001b[0m\u001b[0mMsem\u001b[0m\u001b[0;34m,\u001b[0m \u001b[0mcsem\u001b[0m\u001b[0;34m)\u001b[0m\u001b[0;34m\u001b[0m\u001b[0;34m\u001b[0m\u001b[0m\n\u001b[0m",
            "\u001b[0;32m/usr/local/lib/python3.10/dist-packages/scipy/linalg/_basic.py\u001b[0m in \u001b[0;36msolve\u001b[0;34m(a, b, lower, overwrite_a, overwrite_b, check_finite, assume_a, transposed)\u001b[0m\n\u001b[1;32m    218\u001b[0m                                                (a1, b1))\n\u001b[1;32m    219\u001b[0m         \u001b[0mlu\u001b[0m\u001b[0;34m,\u001b[0m \u001b[0mipvt\u001b[0m\u001b[0;34m,\u001b[0m \u001b[0minfo\u001b[0m \u001b[0;34m=\u001b[0m \u001b[0mgetrf\u001b[0m\u001b[0;34m(\u001b[0m\u001b[0ma1\u001b[0m\u001b[0;34m,\u001b[0m \u001b[0moverwrite_a\u001b[0m\u001b[0;34m=\u001b[0m\u001b[0moverwrite_a\u001b[0m\u001b[0;34m)\u001b[0m\u001b[0;34m\u001b[0m\u001b[0;34m\u001b[0m\u001b[0m\n\u001b[0;32m--> 220\u001b[0;31m         \u001b[0m_solve_check\u001b[0m\u001b[0;34m(\u001b[0m\u001b[0mn\u001b[0m\u001b[0;34m,\u001b[0m \u001b[0minfo\u001b[0m\u001b[0;34m)\u001b[0m\u001b[0;34m\u001b[0m\u001b[0;34m\u001b[0m\u001b[0m\n\u001b[0m\u001b[1;32m    221\u001b[0m         x, info = getrs(lu, ipvt, b1,\n\u001b[1;32m    222\u001b[0m                         trans=trans, overwrite_b=overwrite_b)\n",
            "\u001b[0;32m/usr/local/lib/python3.10/dist-packages/scipy/linalg/_basic.py\u001b[0m in \u001b[0;36m_solve_check\u001b[0;34m(n, info, lamch, rcond)\u001b[0m\n\u001b[1;32m     39\u001b[0m                          '.'.format(-info))\n\u001b[1;32m     40\u001b[0m     \u001b[0;32melif\u001b[0m \u001b[0;36m0\u001b[0m \u001b[0;34m<\u001b[0m \u001b[0minfo\u001b[0m\u001b[0;34m:\u001b[0m\u001b[0;34m\u001b[0m\u001b[0;34m\u001b[0m\u001b[0m\n\u001b[0;32m---> 41\u001b[0;31m         \u001b[0;32mraise\u001b[0m \u001b[0mLinAlgError\u001b[0m\u001b[0;34m(\u001b[0m\u001b[0;34m'Matrix is singular.'\u001b[0m\u001b[0;34m)\u001b[0m\u001b[0;34m\u001b[0m\u001b[0;34m\u001b[0m\u001b[0m\n\u001b[0m\u001b[1;32m     42\u001b[0m \u001b[0;34m\u001b[0m\u001b[0m\n\u001b[1;32m     43\u001b[0m     \u001b[0;32mif\u001b[0m \u001b[0mlamch\u001b[0m \u001b[0;32mis\u001b[0m \u001b[0;32mNone\u001b[0m\u001b[0;34m:\u001b[0m\u001b[0;34m\u001b[0m\u001b[0;34m\u001b[0m\u001b[0m\n",
            "\u001b[0;31mLinAlgError\u001b[0m: Matrix is singular."
          ]
        }
      ],
      "source": [
        "Msem = np.array([\n",
        "   [1, 2, 3],     # fator 1\n",
        "   [-1, -2, -3],  # fator -1\n",
        "   [4, 8, 12],    # fator 4\n",
        "])\n",
        "csem = [1, 1, 1]\n",
        "solve(Msem, csem)"
      ]
    },
    {
      "cell_type": "markdown",
      "metadata": {
        "id": "llBRtkbtS1Ci"
      },
      "source": [
        "Nos dois casos, houve a reclamação *Matrix is singular*. Significa simplesmente que a matriz não é inversível (*i.e.* não existe $A^{-1}$)."
      ]
    },
    {
      "cell_type": "markdown",
      "metadata": {
        "id": "b4__YJCot6Vc"
      },
      "source": [
        "## Determinantes\n",
        "\n",
        "Calcular o determinante de matrizes pode ser útil para calcular área de paralelogramos ou verificar se um sistema tem solução. Vou assumir que você rodou as células acima para criar as variáveis `A`, `Minf` e `Msem`."
      ]
    },
    {
      "cell_type": "code",
      "execution_count": 27,
      "metadata": {
        "id": "bnsakLvruJ7T",
        "colab": {
          "base_uri": "https://localhost:8080/"
        },
        "outputId": "a8d9018b-f2fa-4246-b54e-642871cea7a9"
      },
      "outputs": [
        {
          "output_type": "stream",
          "name": "stdout",
          "text": [
            "-9.0\n",
            "0.0\n",
            "0.0\n"
          ]
        }
      ],
      "source": [
        "from scipy.linalg import det\n",
        "print(det(A))\n",
        "print(det(Minf))\n",
        "print(det(Msem))"
      ]
    },
    {
      "cell_type": "markdown",
      "metadata": {
        "id": "UhLfKwmKS1Cj"
      },
      "source": [
        "Percebeu que apenas o sistema com solução única (matriz $A$) tem determinante diferente de zero? 🤓"
      ]
    },
    {
      "cell_type": "markdown",
      "source": [
        "#### Exercício [&frac12; pt]. Inverso de matrizes retangulares.\n",
        "\n",
        "Matrizes retangulares não possuem inverso. Ainda assim podemos criar uma matriz para obter uma solução em determinados problemas matemáticos de otimização. Essa matriz é chamada de **pseudo-inversa** e, para uma matriz $A$ de $m$ linhas por $n$ colunas, é dada por:\n",
        "\n",
        "$$\n",
        "X =\n",
        "\\begin{cases}\n",
        "(A^T A)^{-1} A^T & \\text{se }m \\le n, \\\\\n",
        "A^T (A A^T)^{-1} & \\text{se }n \\le n.\n",
        "\\end{cases}\n",
        "$$\n",
        "\n",
        "Escreva uma função para solucionar um sistema com matriz $A$ e constantes $\\vec{b}$. Se a matriz for quadrada, a solução deve ser encontrada usando a função `solve` da bibliteca SciPy. Caso contrário, a solução deve ser calculada usando a pseudo-inversa (*i.e.* $X b$)."
      ],
      "metadata": {
        "id": "7VrOaZfTalW8"
      }
    },
    {
      "cell_type": "code",
      "source": [
        "def inverter_reg(a: np.ndarray) -> np.ndarray:\n",
        "    m, n = a.shape\n",
        "    if m <= n:\n",
        "        return np.linalg.inv(a.T @ a) @ a.T\n",
        "    else:\n",
        "        return a.T @ np.linalg.inv(a @ a.T)\n",
        "\n",
        "\n",
        "def mat_reg_inv(a: np.ndarray, b: np.ndarray) -> np.ndarray:\n",
        "    m, n = a.shape\n",
        "    if m == n:\n",
        "        out = np.linalg.solve(a, b)\n",
        "    else:\n",
        "        pseudo_inversa = inverter_reg(a)\n",
        "        out = pseudo_inversa @ b\n",
        "\n",
        "    return out\n",
        "\n",
        "\n",
        "m1 = np.array([[2, 3], [1, 4], [5, 6]])\n",
        "m2 = np.array([10, 12, 15])\n",
        "\n",
        "\n",
        "print(f\"Solução para m1 e m2: {mat_reg_inv(m1, m2)}\")"
      ],
      "metadata": {
        "colab": {
          "base_uri": "https://localhost:8080/"
        },
        "id": "trAHtLT6X-7O",
        "outputId": "e86a3e15-220d-4d4f-bcbb-3f541a59ba5a"
      },
      "execution_count": 39,
      "outputs": [
        {
          "output_type": "stream",
          "name": "stdout",
          "text": [
            "Solução para m1 e m2: [-2.296875  3.09375 ]\n"
          ]
        }
      ]
    },
    {
      "cell_type": "markdown",
      "metadata": {
        "id": "hJnbn2X3z1xJ"
      },
      "source": [
        "## Triangularização de matrizes"
      ]
    },
    {
      "cell_type": "markdown",
      "metadata": {
        "id": "P4pzVdPgS1Cj"
      },
      "source": [
        "`linalg` tem funções para transformar as matrizes em **triangular superior** (os números abaixo da diagonal igual a zero) e **triangular inferior** (os números acima da diagonal principal igual a zero). Triangularizar a matriz é outra forma de resolver sistemas lineares, mas deixaremos a teoria para as aulas de Álgebra."
      ]
    },
    {
      "cell_type": "code",
      "execution_count": 40,
      "metadata": {
        "id": "j2dn1TRrudyy",
        "colab": {
          "base_uri": "https://localhost:8080/"
        },
        "outputId": "251e39f6-004d-4dac-e676-c4d7f2619b52"
      },
      "outputs": [
        {
          "output_type": "stream",
          "name": "stdout",
          "text": [
            "Matriz X:\n",
            "[[1 2 3]\n",
            " [3 2 1]\n",
            " [1 1 1]]\n",
            "\n",
            "X triangular superior:\n",
            "[[1 2 3]\n",
            " [0 2 1]\n",
            " [0 0 1]]\n",
            "\n",
            "X triangular inferior:\n",
            "[[1 0 0]\n",
            " [3 2 0]\n",
            " [1 1 1]]\n"
          ]
        }
      ],
      "source": [
        "from scipy.linalg import tril, triu\n",
        "\n",
        "X = np.array([[1,2,3], [3,2,1], [1,1,1]])\n",
        "print(\"Matriz X:\")\n",
        "print(X)\n",
        "\n",
        "print(\"\\nX triangular superior:\")\n",
        "print(triu(X))\n",
        "\n",
        "print(\"\\nX triangular inferior:\")\n",
        "print(tril(X))"
      ]
    },
    {
      "cell_type": "markdown",
      "metadata": {
        "id": "48tYtsxMuV1c"
      },
      "source": [
        "## Auto-vetores\n",
        "\n",
        "**Auto-vetores** de uma matriz $A$ são os vetores que não são alterados pela multiplicação com a matriz $A$, a menos de um fator. Em geral, uma matriz quadrada $n\\times n$ gera $n$ auto-vetores. A propriedade acima diz que:\n",
        "$$\n",
        "\\begin{align}\n",
        " A\\, \\vec{v_1} &= \\lambda_1 \\vec{v_1} \\\\\n",
        " A\\, \\vec{v_2} &= \\lambda_2 \\vec{v_2} \\\\\n",
        " &... \\\\\n",
        " A\\, \\vec{v_n} &= \\lambda_n \\vec{v_n}\n",
        "\\end{align}\n",
        "$$\n",
        "\n",
        "onde $\\vec{v_i}$ são os auto-vetores e $\\lambda_i$ (*lambda*) são constantes chamadas de **auto-valores**. A função `eig` do módulo `linalg` retorna uma tupla com arrays de auto-valores e auto-vetores de uma matriz, se possível."
      ]
    },
    {
      "cell_type": "code",
      "execution_count": 45,
      "metadata": {
        "id": "HHpph2jqvSzE",
        "colab": {
          "base_uri": "https://localhost:8080/"
        },
        "outputId": "89476812-f1a8-4b49-9e8a-1b14260e4bef"
      },
      "outputs": [
        {
          "output_type": "stream",
          "name": "stdout",
          "text": [
            "auto_valores.real: [ 4. -2.  2.]\n",
            "auto_vetores: [[ 0.70710678 -0.70710678  0.        ]\n",
            " [ 0.          0.          1.        ]\n",
            " [ 0.70710678  0.70710678  0.        ]]\n",
            "\n",
            "\n",
            "lambda1 = 4.0+0.0j\t auto-vetor1 = [0.70710678 0.         0.70710678]\n",
            "lambda2 = -2.0+0.0j\t auto-vetor2 = [-0.70710678  0.          0.70710678]\n",
            "lambda3 = 2.0+0.0j\t auto-vetor3 = [0. 1. 0.]\n"
          ]
        }
      ],
      "source": [
        "from scipy.linalg import eig\n",
        "\n",
        "M = np.array([\n",
        "    [1, 0, 3],\n",
        "    [0, 2, 0],\n",
        "    [3, 0, 1]\n",
        "])\n",
        "auto_valores, auto_vetores = eig(M)\n",
        "\n",
        "print(f'auto_valores.real: {auto_valores.real}')  # mostra os auto-valores (a parte real)\n",
        "print(f'auto_vetores: {auto_vetores}\\n\\n')  # mostra a matriz de auto-vetores\n",
        "\n",
        "lambda1 = auto_valores[0]\n",
        "lambda2 = auto_valores[1]\n",
        "lambda3 = auto_valores[2]\n",
        "\n",
        "av1 = auto_vetores[:, 0] # 1a coluna da matriz\n",
        "av2 = auto_vetores[:, 1] # 2a coluna da matriz\n",
        "av3 = auto_vetores[:, 2] # 3a coluna da matriz\n",
        "\n",
        "print(f\"lambda1 = {lambda1:.1f}\\t auto-vetor1 = {av1}\")\n",
        "print(f\"lambda2 = {lambda2:.1f}\\t auto-vetor2 = {av2}\")\n",
        "print(f\"lambda3 = {lambda3:.1f}\\t auto-vetor3 = {av3}\")"
      ]
    },
    {
      "cell_type": "markdown",
      "metadata": {
        "id": "dBw5pbavjWOP"
      },
      "source": [
        "Para verificar se funcionou, vamos calcular os dois lados da equação $A\\, \\vec{v_1} = \\lambda_1 \\vec{v_1}$."
      ]
    },
    {
      "cell_type": "code",
      "execution_count": 47,
      "metadata": {
        "id": "VORYPCCru-zc",
        "colab": {
          "base_uri": "https://localhost:8080/"
        },
        "outputId": "1238d5ca-14c7-4009-eea5-b2d855b60b5c"
      },
      "outputs": [
        {
          "output_type": "stream",
          "name": "stdout",
          "text": [
            "[2.82842712 0.         2.82842712]\n",
            "[2.82842712 0.         2.82842712]\n",
            "[2.82842712+0.j 0.        +0.j 2.82842712+0.j]\n"
          ]
        }
      ],
      "source": [
        "print(M @ av1)\n",
        "print((lambda1 * av1).real)\n",
        "#print((lambda1 * av1))"
      ]
    },
    {
      "cell_type": "markdown",
      "metadata": {
        "id": "hpuk7XZc9cRd"
      },
      "source": [
        "Funcionou! 😎\n",
        "\n",
        "Mas caso seu interesse seja **apenas nos auto-valores**, você pode usar a função `eigvals()`:"
      ]
    },
    {
      "cell_type": "code",
      "execution_count": 48,
      "metadata": {
        "id": "YAGX_Z2DS1Ck",
        "colab": {
          "base_uri": "https://localhost:8080/"
        },
        "outputId": "1f560895-91b0-453b-b27a-b77eef7e9928"
      },
      "outputs": [
        {
          "output_type": "stream",
          "name": "stdout",
          "text": [
            "[ 4. -2.  2.]\n"
          ]
        }
      ],
      "source": [
        "from scipy.linalg import eigvals\n",
        "lambdas = eigvals(M)\n",
        "print(lambdas.real)"
      ]
    },
    {
      "cell_type": "markdown",
      "metadata": {
        "id": "wWlcu4dqnbc-"
      },
      "source": [
        "Decomposição de matrizes em auto-vetores tem diversas aplicações como, por exemplo, encontrar a rota mais curta para um caminhão de entrega, ou o estudo da dinâmica de populações com presa/predador. Se tiver tempo, dê uma olhadinha no [vídeo de Zach Star no YouTube](https://youtu.be/rowWM-MijXU?si=WIfDUp0M4fvcsoE1) que fala, entre outras coisas, da aplicação de autovetores para analisar uma infestação zumbi."
      ]
    },
    {
      "cell_type": "markdown",
      "metadata": {
        "id": "ra2YcczaS1Ck"
      },
      "source": [
        "#### Exercício [&frac12; pt]. Condicionamento de uma matriz.\n",
        "Em sistemas lineares, o condicionamento de uma matriz é uma medida com a qual é possível saber o grau de alteração que uma solução sofre ao adicionar ruído na matriz. O condicionamento de uma matriz é dado por:\n",
        "\n",
        "$$\n",
        "\\kappa(A) = \\frac{|\\lambda_{max}(A)|}{|\\lambda_{min}(A)|},\n",
        "$$\n",
        "\n",
        "onde $|\\lambda_{max}(A)|$ é o módulo do maior autovalor de $A$ e $|\\lambda_{min}(A)|$ é o módulo do menor autovalor de A. Faça a função `condicionamento` que recebe uma matriz A e retorna o condicionamento dela. Caso o valor de $\\kappa$ seja superior a $10^4$, a função imprime também \"Matriz mal-condicionada.\""
      ]
    },
    {
      "cell_type": "code",
      "source": [
        "def condicionamento(A: np.ndarray) -> float:\n",
        "    auto_valores = eig(A)[0]\n",
        "    lambda_max = np.max(np.abs(auto_valores))\n",
        "    lambda_min = np.min(np.abs(auto_valores))\n",
        "    k = lambda_max/lambda_min\n",
        "    if k > 1e4:\n",
        "        print(\"Matriz mal-condicionada\")\n",
        "    return k\n",
        "\n",
        "\n",
        "m1 = np.array([[1, 2], [3, 4]])\n",
        "m2 = np.array([[1, 0, 0], [0, 2, 0], [0, 0, 3]])\n",
        "m3 = np.array([[1, 1e-10], [0, 1]])\n",
        "\n",
        "print(f\"Condicionamento de m1: {condicionamento(m1):.3f}\")\n",
        "print(f\"Condicionamento de m2: {condicionamento(m2):.3f}\")\n",
        "print(f\"Condicionamento de m3: {condicionamento(m3):.3f}\")\n"
      ],
      "metadata": {
        "colab": {
          "base_uri": "https://localhost:8080/"
        },
        "id": "CCiU-YDbghOW",
        "outputId": "8b2ae11d-95cd-4845-f092-1e15a3e3ea14"
      },
      "execution_count": 53,
      "outputs": [
        {
          "output_type": "stream",
          "name": "stdout",
          "text": [
            "Condicionamento de m1: 14.431\n",
            "Condicionamento de m2: 3.000\n",
            "Condicionamento de m3: 1.000\n"
          ]
        }
      ]
    },
    {
      "cell_type": "markdown",
      "metadata": {
        "id": "9salZ7oyk0mk"
      },
      "source": [
        "# 3. Interpolação de pontos &ndash; interpolate\n",
        "\n",
        "Criar uma curva entre determinados pontos chama-se **interpolar**.\n",
        "* A função `interp1d` cria uma função que traça retas entre os pontos.\n",
        "* Já as funções `splev` e `splrep` criam curvas suaves chamadas **splines**.\n",
        "\n",
        "Imagine que um certo material tenha temperaturas diferentes ao longo do comprimento. Vamos gerar esses pontos:"
      ]
    },
    {
      "cell_type": "code",
      "execution_count": 49,
      "metadata": {
        "id": "VXMuZzvwBBAR",
        "colab": {
          "base_uri": "https://localhost:8080/",
          "height": 449
        },
        "outputId": "0597bd19-308e-4716-c18c-c6630922a409"
      },
      "outputs": [
        {
          "output_type": "display_data",
          "data": {
            "text/plain": [
              "<Figure size 640x480 with 1 Axes>"
            ],
            "image/png": "[encoded data removed]"
          },
          "metadata": {}
        }
      ],
      "source": [
        "import numpy as np\n",
        "import matplotlib.pyplot as plt\n",
        "\n",
        "x = np.arange(6)\n",
        "y = [3, 7, 4, 6, 1, 4]\n",
        "plt.plot(x, y, 'o')\n",
        "plt.xlabel(\"Posição (cm)\")\n",
        "plt.ylabel(\"Temperatura (°C)\")\n",
        "plt.show()"
      ]
    },
    {
      "cell_type": "markdown",
      "metadata": {
        "id": "iMCrpD3Vp-nk"
      },
      "source": [
        "E agora, queremos predizer a temperatura em pontos intermediários, como em 2,3 cm. Um forma é interpolar com retas usando `interp1d`. Essa função retorna uma função que pode ser usada em qualquer ponto intermediário."
      ]
    },
    {
      "cell_type": "code",
      "execution_count": 50,
      "metadata": {
        "id": "RmhUNJ1ClWGN",
        "colab": {
          "base_uri": "https://localhost:8080/",
          "height": 449
        },
        "outputId": "6bd3fc87-a43d-41ab-bc2f-3be75a046076"
      },
      "outputs": [
        {
          "output_type": "display_data",
          "data": {
            "text/plain": [
              "<Figure size 640x480 with 1 Axes>"
            ],
            "image/png": "[encoded data removed]"
          },
          "metadata": {}
        }
      ],
      "source": [
        "from scipy.interpolate import interp1d\n",
        "\n",
        "# Plota os dados novamente\n",
        "plt.plot(x, y, 'o')\n",
        "plt.xlabel(\"Posição (cm)\")\n",
        "plt.ylabel(\"Temperatura (°C)\")\n",
        "\n",
        "funcao = interp1d(x, y)     # cria uma função de interpolação\n",
        "xi = np.linspace(0, 5, 200) # cria um array denso para x\n",
        "yi = funcao(xi)             # calcula a ordenada em cada x\n",
        "plt.plot(xi, yi)\n",
        "\n",
        "plt.show()"
      ]
    },
    {
      "cell_type": "code",
      "execution_count": 54,
      "metadata": {
        "id": "DjtF8us_q2Iy",
        "colab": {
          "base_uri": "https://localhost:8080/"
        },
        "outputId": "94bde3e7-87c9-4f3b-f879-bbe65ff09382"
      },
      "outputs": [
        {
          "output_type": "stream",
          "name": "stdout",
          "text": [
            "A temperatura em 2,5cm é 5.0°C\n"
          ]
        }
      ],
      "source": [
        "print(f\"A temperatura em 2,5cm é {funcao(2.5):.1f}°C\")"
      ]
    },
    {
      "cell_type": "markdown",
      "metadata": {
        "id": "S77fqCTOrF-R"
      },
      "source": [
        "Usando splines, conseguimos obter uma forma suave entre os pontos. `splrep` gera os parâmetros da spline para um determinado conjunto de dados e `splev` calcula as abscissas para qualquer x."
      ]
    },
    {
      "cell_type": "code",
      "execution_count": 55,
      "metadata": {
        "id": "lIF9rLI3qXdL",
        "colab": {
          "base_uri": "https://localhost:8080/",
          "height": 449
        },
        "outputId": "587fc458-a1de-4a09-e7e0-6389270ad3c4"
      },
      "outputs": [
        {
          "output_type": "display_data",
          "data": {
            "text/plain": [
              "<Figure size 640x480 with 1 Axes>"
            ],
            "image/png": "[encoded data removed]"
          },
          "metadata": {}
        }
      ],
      "source": [
        "from scipy.interpolate import splev, splrep\n",
        "\n",
        "# Plota os dados novamente\n",
        "plt.plot(x, y, 'o')\n",
        "plt.xlabel(\"Posição (cm)\")\n",
        "plt.ylabel(\"Temperatura (°C)\")\n",
        "\n",
        "xs = np.linspace(0, 5, 200) # cria um array denso para x\n",
        "params = splrep(x,y)        # parâmetros para a spline\n",
        "ys = splev(xs, params)      # calcula as ordenadas\n",
        "plt.plot(xs, ys)\n",
        "plt.show()"
      ]
    },
    {
      "cell_type": "code",
      "execution_count": 56,
      "metadata": {
        "id": "0M1Rddg6r27W",
        "colab": {
          "base_uri": "https://localhost:8080/"
        },
        "outputId": "4646df6f-a7d3-405d-d9a6-445c49f0064f"
      },
      "outputs": [
        {
          "output_type": "stream",
          "name": "stdout",
          "text": [
            "A temperatura em 2,5cm é 5.2°C\n"
          ]
        }
      ],
      "source": [
        "print(f\"A temperatura em 2,5cm é {splev(2.5, params):.1f}°C\")"
      ]
    },
    {
      "cell_type": "markdown",
      "metadata": {
        "id": "5RECSS6vmB7p"
      },
      "source": [
        "# 4. Integração numérica &ndash; integrate\n",
        "\n",
        "Este módulo possui funções para calcular integrais de forma numérica, como função a `quad`. Imagine que você queira calcular a posição de um objeto com velocidade\n",
        "\n",
        "$$\n",
        "v(t) = -5\\, t + t^2 + 10,\n",
        "$$\n",
        "\n",
        "depois de 10 segundos. Como $v = dx/dt$, a integral da velocidade fornece a distância percorrida $\\Delta x$ entre dois tempos. Portanto, precisamos integrar $v(t)$ entre 0 e 10 segundos."
      ]
    },
    {
      "cell_type": "code",
      "execution_count": 57,
      "metadata": {
        "id": "nfApwe51nRYJ",
        "colab": {
          "base_uri": "https://localhost:8080/"
        },
        "outputId": "b59ea06e-c073-4c16-d3f7-6528499e4705"
      },
      "outputs": [
        {
          "output_type": "stream",
          "name": "stdout",
          "text": [
            "Distância percorrida = 183.33 m\n"
          ]
        }
      ],
      "source": [
        "from scipy.integrate import quad\n",
        "\n",
        "# O parâmetro da função integrada pode ter qualquer nome\n",
        "def v(t):\n",
        "  return -5 * t + t**2 + 10\n",
        "\n",
        "dx = quad(v, 0, 10)[0]\n",
        "\n",
        "print(f\"Distância percorrida = {dx:.2f} m\")"
      ]
    },
    {
      "cell_type": "markdown",
      "metadata": {
        "id": "ygT1klEPvI3p"
      },
      "source": [
        "## Retornando as integrais\n"
      ]
    },
    {
      "cell_type": "markdown",
      "metadata": {
        "id": "5b6ctNfAvVPP"
      },
      "source": [
        "O exemplo acima é interessante mas às vezes queremos uma função que já retorne o valor da integral. Se a função integrada depende de parâmetros, precisamos defini-la dentro da outra função.\n",
        "\n",
        "*Exemplo*: Queremos uma função que retorne a área de um círculo de raio $R$, ou seja:\n",
        "$$\n",
        "4 \\int_0^R\\! \\sqrt{R^2 - x^2} dx\n",
        "$$"
      ]
    },
    {
      "cell_type": "code",
      "execution_count": 58,
      "metadata": {
        "id": "NNqM4J_TvIYR",
        "colab": {
          "base_uri": "https://localhost:8080/"
        },
        "outputId": "74d836fe-8e68-4401-cb15-47f2afd0d0b2"
      },
      "outputs": [
        {
          "output_type": "stream",
          "name": "stdout",
          "text": [
            "O raio do círculo é 5\n",
            "Área (integração numérica) = 78.53981633974486\n",
            "Área (fazendo a conta)     = 78.53981633974483\n"
          ]
        }
      ],
      "source": [
        "import numpy as np\n",
        "from scipy.integrate import quad\n",
        "\n",
        "def integral_circulo(R) -> float:\n",
        "  \"Calcula numericamente a área de um círculo de raio R.\"\n",
        "  def funcao(x):\n",
        "    # Use sempre as funções do NumPy\n",
        "    return np.sqrt(R**2 - x**2)\n",
        "  # Lembre-se de que quad retorna (integral, erro)\n",
        "  return 4 * quad(funcao, 0, R)[0]\n",
        "\n",
        "r = 5\n",
        "print(\"O raio do círculo é\", r)\n",
        "print(\"Área (integração numérica) =\", integral_circulo(r))\n",
        "print(\"Área (fazendo a conta)     =\", np.pi * r**2)"
      ]
    },
    {
      "cell_type": "markdown",
      "metadata": {
        "id": "MyA0OhkDS1Cq"
      },
      "source": [
        "#### Exercício [&frac12; pt]. Integrando funções.\n",
        "Utilizando a função `quad` do módulo `scipy.integrate`, escreva funções que calculem as integrais das funções:\n",
        "\n",
        "a) $f(x) = 7 x^{5/2} + 4$\n",
        "\n",
        "b) $g(t) = t^2 \\cos(0.5 t)$\n",
        "\n",
        "c) $h(u) = \\ln (-2u + u^{-5})$\n",
        "\n",
        "no intervalo $[a, b)$, onde a e b são parâmetros das funções."
      ]
    },
    {
      "cell_type": "code",
      "source": [
        "def integrar(func, a: float, b: float) -> tuple:\n",
        "    if a == b:\n",
        "        return 0, 0\n",
        "\n",
        "    if a > b:\n",
        "        a, b = b, a\n",
        "\n",
        "    resp, erro = quad(func, a, b)\n",
        "    return resp, erro\n",
        "\n",
        "f = lambda x: 7 * x**(5/2) + 4\n",
        "g = lambda t: t**2 * np.cos(0.5 * t)\n",
        "h = lambda u: np.log(-2*u + u**(-5))\n",
        "\n",
        "F = integrar(f, 1, 2)\n",
        "G = integrar(g, 1, 2)\n",
        "H = integrar(h, -8, -6)\n",
        "\n",
        "print(f'Integral de f(x): {F[0]:.6f} erro relativo: {F[1]:.6f}')\n",
        "print(f'Integral de g(t): {G[0]:.6f} erro relativo: {G[1]:.6f}')\n",
        "print(f'Integral de h(u): {H[0]:.6f} erro relativo: {H[1]:.6f}') #conferi no geogebra"
      ],
      "metadata": {
        "colab": {
          "base_uri": "https://localhost:8080/"
        },
        "id": "GssTbDBrlblP",
        "outputId": "c16eabd2-72cd-4178-83d1-d00b1f70ad2a"
      },
      "execution_count": 84,
      "outputs": [
        {
          "output_type": "stream",
          "name": "stdout",
          "text": [
            "Integral de f(x): 24.627417 erro relativo: 0.000000\n",
            "Integral de g(t): 1.604366 erro relativo: 0.000000\n",
            "Integral de h(u): 5.271260 erro relativo: 0.000000\n"
          ]
        }
      ]
    },
    {
      "cell_type": "markdown",
      "metadata": {
        "id": "ZiFyLddVuTs4"
      },
      "source": [
        "# 5. Ajuste de funções &ndash; optimize\n",
        "\n",
        "Neste módulo, encontramos funções para **encontrar as raízes de uma função** (os valores de $x$ para os quais $f(x)=0$). Só que vamos olhar uma função ainda mais interessante: `curve_fit`, que usa o *método dos mínimos quadrados* para **ajustar uma função a um conjunto de dados**.\n",
        "\n",
        "*Como funciona?* Primeiro precisamos definir uma função de $x$ e outros parâmetros. Por exemplo: a função de uma reta cujos argumentos são a abscissa `x` e os coeficientes angular `m` e linear `n`:"
      ]
    },
    {
      "cell_type": "code",
      "execution_count": 85,
      "metadata": {
        "id": "V_CyGE_OwB-5"
      },
      "outputs": [],
      "source": [
        "def f(x, m, n):\n",
        "  \"Calcula a ordenada de uma reta em função de x e parâmetros.\"\n",
        "  return m*x + n"
      ]
    },
    {
      "cell_type": "markdown",
      "metadata": {
        "id": "UuxsLLCfwsJi"
      },
      "source": [
        "Vamos criar um conjunto de dados *ruidoso*, como se fosse o resultado de medidas experimentais, para testar o ajuste com a função da reta. Se não fosse pela função `np.random.rand`, os pontos seriam de uma reta com coeficientes $m=3$ e $n=2$."
      ]
    },
    {
      "cell_type": "code",
      "execution_count": 86,
      "metadata": {
        "id": "eLh0yEbyxHfU",
        "colab": {
          "base_uri": "https://localhost:8080/",
          "height": 430
        },
        "outputId": "2129e749-ca79-41ff-cf72-2b1d090ec28d"
      },
      "outputs": [
        {
          "output_type": "display_data",
          "data": {
            "text/plain": [
              "<Figure size 640x480 with 1 Axes>"
            ],
            "image/png": "[encoded data removed]"
          },
          "metadata": {}
        }
      ],
      "source": [
        "import matplotlib.pyplot as plt\n",
        "from datetime import datetime\n",
        "np.random.seed(int(datetime.now().timestamp())) #Assim vai variar sempre que executar\n",
        "xdata = np.linspace(0, 10, 16)\n",
        "num_pontos = len(xdata)\n",
        "ydata = 3*xdata + 2 + 4*np.random.rand(num_pontos)\n",
        "\n",
        "plt.plot(xdata, ydata, 'o');"
      ]
    },
    {
      "cell_type": "code",
      "execution_count": 87,
      "metadata": {
        "id": "b3aX9Qt6yJcu",
        "colab": {
          "base_uri": "https://localhost:8080/"
        },
        "outputId": "982675ce-1ab1-4472-d9cf-f7d395844503"
      },
      "outputs": [
        {
          "output_type": "execute_result",
          "data": {
            "text/plain": [
              "array([2.86916024, 5.04168731])"
            ]
          },
          "metadata": {},
          "execution_count": 87
        }
      ],
      "source": [
        "# Vamos ajustar e olhar os parâmetros do ajuste\n",
        "from scipy.optimize import curve_fit\n",
        "popt, pcov = curve_fit(f, xdata, ydata)\n",
        "popt"
      ]
    },
    {
      "cell_type": "code",
      "execution_count": 88,
      "metadata": {
        "id": "rjJZpLOOzG62",
        "colab": {
          "base_uri": "https://localhost:8080/",
          "height": 433
        },
        "outputId": "2cca7599-8090-49f7-c672-1655f109d453"
      },
      "outputs": [
        {
          "output_type": "display_data",
          "data": {
            "text/plain": [
              "<Figure size 640x480 with 1 Axes>"
            ],
            "image/png": "[encoded data removed]"
          },
          "metadata": {}
        }
      ],
      "source": [
        "# Agora gera uma reta com os parâmetros encontrados\n",
        "m = popt[0]  # melhor inclinação\n",
        "n = popt[1]  # melhor elevação\n",
        "xfit = np.linspace(0, 10)\n",
        "yfit = f(xfit, m, n)\n",
        "\n",
        "# E plota junto aos dados experimentias\n",
        "plt.plot(xdata, ydata, '.', label=\"Dados\")\n",
        "plt.plot(xfit, yfit, label=\"Ajuste linear\")\n",
        "plt.legend()\n",
        "plt.grid()\n",
        "plt.show()"
      ]
    },
    {
      "cell_type": "markdown",
      "metadata": {
        "id": "cxYNO2hozjTk"
      },
      "source": [
        "Interessante também é usar a **matriz de covariância** `pcov` para calcular os erros de ajuste nos parâmetros:"
      ]
    },
    {
      "cell_type": "code",
      "execution_count": 101,
      "metadata": {
        "id": "Mzdw7Z7Wzso2",
        "colab": {
          "base_uri": "https://localhost:8080/"
        },
        "outputId": "2278479e-870d-4d66-9b58-302cae5895b6"
      },
      "outputs": [
        {
          "output_type": "stream",
          "name": "stdout",
          "text": [
            "m = 0.9 ± 0.1\n",
            "n = 25.0 ± 0.2\n"
          ]
        }
      ],
      "source": [
        "d = np.sqrt(np.diag(pcov))\n",
        "erro_m = d[0]\n",
        "erro_n = d[1]\n",
        "print(f\"m = {m:.1f} ± {erro_m:.1f}\")\n",
        "print(f\"n = {n:.1f} ± {erro_n:.1f}\")"
      ]
    },
    {
      "cell_type": "markdown",
      "metadata": {
        "id": "q9wmkW8-sPsy"
      },
      "source": [
        "Para verificar que o erro tem a ver com a dispersão dos dados, faça o procedimento acima retirando a componente aleatória das ordenadas."
      ]
    },
    {
      "cell_type": "markdown",
      "metadata": {
        "id": "N6nqAMY7S1Cr"
      },
      "source": [
        "#### Exercício [&frac12;pt]. Ajuste senoidal.\n",
        "\n",
        "Nosso universo é permeado de fenômenos ondulatórios: propagação de luz e som, oscilação de pêndulos, terremotos *etc.*  A próxima célula gera um conjunto de dados fictício para medidas da altura das marés:"
      ]
    },
    {
      "cell_type": "code",
      "execution_count": 102,
      "metadata": {
        "id": "Tthv9iONS1Cr",
        "colab": {
          "base_uri": "https://localhost:8080/",
          "height": 487
        },
        "outputId": "892c662c-dac4-4a66-a6e2-0f33199678b8"
      },
      "outputs": [
        {
          "output_type": "display_data",
          "data": {
            "text/plain": [
              "<Figure size 640x480 with 1 Axes>"
            ],
            "image/png": "[encoded data removed]"
          },
          "metadata": {}
        }
      ],
      "source": [
        "import numpy as np\n",
        "from numpy.random import rand\n",
        "\n",
        "n = 25\n",
        "x_medidas = np.linspace(0, 20, n)\n",
        "y_medidas = 2*np.cos(0.507*x_medidas + 0.2)\n",
        "# Adiciona uma incerteza aos dados\n",
        "x_medidas += rand(n)-0.5\n",
        "y_medidas += rand(n)-0.5\n",
        "\n",
        "plt.plot(x_medidas, y_medidas, '.')\n",
        "plt.ylabel(\"Altura relativa (m)\")\n",
        "plt.xlabel(\"Tempo (h)\")\n",
        "plt.grid()\n",
        "plt.tight_layout()\n",
        "plt.show()"
      ]
    },
    {
      "cell_type": "markdown",
      "source": [
        "Agora tente ajustar os dados com uma função senoidal\n",
        "\n",
        "$$\n",
        "h(t) = A \\cos\\left(\\frac{2\\pi}{T} t + \\phi\\right),\n",
        "$$\n",
        "\n",
        "onde os **parâmetros a serem ajustados** são a amplitude da onda $A$, o período de oscilação $T$ e a fase $\\phi$ (letra grega phi). Mas lembre de sempre usar as funções do `numpy`, não do `math`. Plote também os dados com o ajuste e imprima os valores ajustados com erro."
      ],
      "metadata": {
        "id": "s1PFCRZgZvQE"
      }
    },
    {
      "cell_type": "code",
      "source": [
        "def h(t, a, T, phi):\n",
        "    return a * np.cos(2 * np.pi / T * t + phi)\n",
        "\n",
        "\n",
        "popt, pcov = curve_fit(h, x_medidas, y_medidas, p0=(2, 12, 0))\n",
        "a, T, phi = popt\n",
        "\n",
        "\n",
        "xfit = np.linspace(0, 20, int(1e6))\n",
        "yfit = h(xfit, a, T, phi)\n",
        "\n",
        "plt.plot(x_medidas, y_medidas, '.', label=\"Dados\")\n",
        "plt.plot(xfit, yfit, label=\"Ajuste senoidal\")\n",
        "plt.legend()\n",
        "plt.ylabel(\"Altura relativa (m)\")\n",
        "plt.xlabel(\"Tempo (h)\")\n",
        "plt.grid()\n",
        "plt.tight_layout()\n",
        "plt.show()\n",
        "\n",
        "\n",
        "d = np.sqrt(np.diag(pcov))\n",
        "erro_a = d[0]\n",
        "erro_T = d[1]\n",
        "erro_phi = d[2]\n",
        "\n",
        "print(f\"Parâmetros do ajuste:\")\n",
        "print(f\"a = {a:.2f} ± {erro_a:.2f}\")\n",
        "print(f\"T = {T:.2f} ± {erro_T:.2f}\")\n",
        "print(f\"phi = {phi:.2f} ± {erro_phi:.2f}\")"
      ],
      "metadata": {
        "colab": {
          "base_uri": "https://localhost:8080/",
          "height": 561
        },
        "id": "fXcybARct0eC",
        "outputId": "92c326ce-1ae6-4644-deb4-653fc988758a"
      },
      "execution_count": 103,
      "outputs": [
        {
          "output_type": "display_data",
          "data": {
            "text/plain": [
              "<Figure size 640x480 with 1 Axes>"
            ],
            "image/png": "[encoded data removed]"
          },
          "metadata": {}
        },
        {
          "output_type": "stream",
          "name": "stdout",
          "text": [
            "Parâmetros do ajuste:\n",
            "a = 1.91 ± 0.12\n",
            "T = 12.15 ± 0.29\n",
            "phi = 0.05 ± 0.14\n"
          ]
        }
      ]
    },
    {
      "cell_type": "markdown",
      "metadata": {
        "id": "24ZIH0OQNsC5"
      },
      "source": [
        "# Avalie"
      ]
    },
    {
      "cell_type": "markdown",
      "metadata": {
        "id": "GFAC2uerOCXP"
      },
      "source": [
        "O que você achou deste notebook? Dê uma nota de 1 a 5:"
      ]
    },
    {
      "cell_type": "code",
      "execution_count": null,
      "metadata": {
        "id": "YulIUCZZOIKR"
      },
      "outputs": [],
      "source": [
        "nota = 5\n",
        "if 1 <= nota <= 5:\n",
        "  print(\"O que achei do notebook: \" + \"😨😞😐🙂🥰\"[nota-1])\n",
        "else:\n",
        "  print(\"Sem nota\")"
      ]
    }
  ],
  "metadata": {
    "colab": {
      "provenance": [],
      "toc_visible": true,
      "include_colab_link": true
    },
    "kernelspec": {
      "display_name": "Python 3",
      "name": "python3"
    },
    "language_info": {
      "codemirror_mode": {
        "name": "ipython",
        "version": 3
      },
      "file_extension": ".py",
      "mimetype": "text/x-python",
      "name": "python",
      "nbconvert_exporter": "python",
      "pygments_lexer": "ipython3",
      "version": "3.12.1"
    }
  },
  "nbformat": 4,
  "nbformat_minor": 0
}